{
 "cells": [
  {
   "cell_type": "markdown",
   "metadata": {},
   "source": [
    "<h1 style=\"text-align:center\">Lab 0: Installation Test</h1>\n",
    "<h3 style=\"text-align:center\">MCHE474: Control Systems</h3> \n",
    "<p style=\"text-align:center\">Dr. Joshua Vaughan <br>\n",
    "<a href=\"mailto:joshua.vaughan@louisiana.edu\">joshua.vaughan@louisiana.edu</a><br>\n",
    "<a href=\"http://www.ucs.louisiana.edu/~jev9637/\">http://www.ucs.louisiana.edu/~jev9637/</a></p>"
   ]
  },
  {
   "cell_type": "markdown",
   "metadata": {},
   "source": [
    "In this notebook, we'll simply be testing that all the tools that we'll be using this semester have been installed correctly, while hopefully providing a simple first exercise with the Jupyter Notebook."
   ]
  },
  {
   "cell_type": "markdown",
   "metadata": {},
   "source": [
    "We'll first  place a \"watermark\"  that will display our system information. You should have followed the instructions on the lab handout to install this package. You can see more information about this package at:\n",
    "\n",
    "[https://github.com/rasbt/watermark](https://github.com/rasbt/watermark)\n",
    "\n",
    "If you haven't yet installed it, you can by issuing the command below from a terminal window:\n",
    "\n",
    "```bash\n",
    "conda install -c conda-forge watermark \n",
    "```\n",
    "\n",
    "Many more examples of its use are included in [this example Jupyter Notebook](http://nbviewer.jupyter.org/github/rasbt/watermark/blob/master/docs/watermark.ipynb)."
   ]
  },
  {
   "cell_type": "code",
   "execution_count": 1,
   "metadata": {
    "collapsed": false
   },
   "outputs": [],
   "source": [
    "# We first need to tell the Jupyter Notebook to load the extension\n",
    "%load_ext watermark"
   ]
  },
  {
   "cell_type": "code",
   "execution_count": 2,
   "metadata": {
    "collapsed": false
   },
   "outputs": [
    {
     "name": "stdout",
     "output_type": "stream",
     "text": [
      "2017-08-31T11:34:01-05:00\n",
      "\n",
      "CPython 3.5.2\n",
      "IPython 6.1.0\n",
      "\n",
      "compiler   : GCC 4.2.1 Compatible Apple LLVM 4.2 (clang-425.0.28)\n",
      "system     : Darwin\n",
      "release    : 16.7.0\n",
      "machine    : x86_64\n",
      "processor  : i386\n",
      "CPU cores  : 8\n",
      "interpreter: 64bit\n"
     ]
    }
   ],
   "source": [
    "# The base usage will tell us information about our machine and the version of Python we're using\n",
    "%watermark "
   ]
  },
  {
   "cell_type": "markdown",
   "metadata": {},
   "source": [
    "We can also use the options in the package to tell us about versions of specific python packages. In this case, we'll check the versions of the NumPy, SciPy, matplotlib, Jupyter Notebook, and Control packages."
   ]
  },
  {
   "cell_type": "code",
   "execution_count": 3,
   "metadata": {
    "collapsed": false
   },
   "outputs": [
    {
     "name": "stdout",
     "output_type": "stream",
     "text": [
      "CPython 3.5.2\n",
      "IPython 6.1.0\n",
      "\n",
      "numpy 1.11.2\n",
      "scipy 0.18.1\n",
      "control 0.7.0\n",
      "notebook 4.3.0\n",
      "matplotlib 2.0.0\n",
      "\n",
      "compiler   : GCC 4.2.1 Compatible Apple LLVM 4.2 (clang-425.0.28)\n",
      "system     : Darwin\n",
      "release    : 16.7.0\n",
      "machine    : x86_64\n",
      "processor  : i386\n",
      "CPU cores  : 8\n",
      "interpreter: 64bit\n"
     ]
    }
   ],
   "source": [
    "%watermark -v -m -p numpy,scipy,control,notebook,matplotlib"
   ]
  },
  {
   "cell_type": "markdown",
   "metadata": {},
   "source": [
    "The output of that command look similar to the first, but  with the versions of the NumPy, SciPy, matplotlib, Jupyter Notebook, and Control packages indicated as well. Now, let's run some simple commands to double-check that everything is working.\n",
    "\n",
    "We'll first import NumPy, the set up the notebook for plotting using the matplotlib library."
   ]
  },
  {
   "cell_type": "code",
   "execution_count": 4,
   "metadata": {
    "collapsed": true
   },
   "outputs": [],
   "source": [
    "# Grab all of the NumPy functions with namespace np\n",
    "import numpy as np              "
   ]
  },
  {
   "cell_type": "code",
   "execution_count": 5,
   "metadata": {
    "collapsed": true
   },
   "outputs": [],
   "source": [
    "%matplotlib inline\n",
    "\n",
    "# Import the plotting functions \n",
    "import matplotlib.pyplot as plt"
   ]
  },
  {
   "cell_type": "markdown",
   "metadata": {
    "collapsed": true
   },
   "source": [
    "Let's plot an array of random numbers. We'll use the numeric portion of our CLID's as a \"seed\" for the random number generator. This will make the string of numbers  *i.)* repeatable and *ii.)* unique to the seed value, meaning your plots will be unique to your  CLID numerals. \n",
    "\n",
    "In the first code block below, change 1234 to be the numeric portion of your CLID. This creates a random number generator with that as the seed."
   ]
  },
  {
   "cell_type": "code",
   "execution_count": 6,
   "metadata": {
    "collapsed": false
   },
   "outputs": [],
   "source": [
    "# Change 1234 to match the numeric portion of your CLID\n",
    "my_random_generator = np.random.RandomState(seed=1234) "
   ]
  },
  {
   "cell_type": "markdown",
   "metadata": {},
   "source": [
    "Now, we'll use this generator to generate an array of 500 elements and plot them."
   ]
  },
  {
   "cell_type": "code",
   "execution_count": 7,
   "metadata": {
    "collapsed": false
   },
   "outputs": [
    {
     "data": {
      "text/plain": [
       "[<matplotlib.lines.Line2D at 0x111560da0>]"
      ]
     },
     "execution_count": 7,
     "metadata": {},
     "output_type": "execute_result"
    },
    {
     "data": {
      "image/png": "[encoded data removed]",
      "text/plain": [
       "<matplotlib.figure.Figure at 0x10f292198>"
      ]
     },
     "metadata": {},
     "output_type": "display_data"
    }
   ],
   "source": [
    "my_random_numbers = my_random_generator.rand(500) # Generate 500 random numbers\n",
    "\n",
    "\n",
    "# Now, we'll plot them. Here, we'll just use the matplotlib defaults. \n",
    "# By default, no axis labels, etc are included.\n",
    "# Later, we'll generate nicer plots by modifying some of those defaults.\n",
    "plt.plot(my_random_numbers)"
   ]
  },
  {
   "cell_type": "markdown",
   "metadata": {},
   "source": [
    "Now, let's import the scipy and Control modules, just to check that they will  load. If  there were no errors from the:\n",
    "\n",
    "```%watermark -v -m -p numpy,scipy,control,notebook,matplotlib``` \n",
    "\n",
    "command above, then they should load without any issue."
   ]
  },
  {
   "cell_type": "code",
   "execution_count": 8,
   "metadata": {
    "collapsed": true
   },
   "outputs": [],
   "source": [
    "import control # This will import the control library. We'll need to preface any commands from it with control."
   ]
  },
  {
   "cell_type": "code",
   "execution_count": 9,
   "metadata": {
    "collapsed": true
   },
   "outputs": [],
   "source": [
    "import scipy  # This will import the scipy libary. We'll almost never import this entire library again."
   ]
  },
  {
   "cell_type": "markdown",
   "metadata": {},
   "source": [
    "<hr>"
   ]
  },
  {
   "cell_type": "markdown",
   "metadata": {},
   "source": [
    "\n",
    "#### Licenses\n",
    "Code is licensed under a 3-clause BSD style license. See the licenses/LICENSE.md file.\n",
    "\n",
    "Other content is provided under a [Creative Commons Attribution-NonCommercial 4.0 International License](http://creativecommons.org/licenses/by-nc/4.0/), CC-BY-NC 4.0."
   ]
  },
  {
   "cell_type": "code",
   "execution_count": 10,
   "metadata": {
    "collapsed": false
   },
   "outputs": [
    {
     "data": {
      "text/html": [
       "<style>\n",
       "    @font-face {\n",
       "        font-family: \"Computer Modern\";\n",
       "        src: url('http://mirrors.ctan.org/fonts/cm-unicode/fonts/otf/cmunss.otf');\n",
       "    }\n",
       "    @font-face {\n",
       "        font-family: \"Computer Modern\";\n",
       "        src: url('http://mirrors.ctan.org/fonts/cm-unicode/fonts/otf/cmunsx.otf');\n",
       "        font-weight: bold;\n",
       "    }\n",
       "    @font-face {\n",
       "        font-family: \"Computer Modern\";\n",
       "        src: url('http://mirrors.ctan.org/fonts/cm-unicode/fonts/otf/cmunsi.otf');\n",
       "        font-style: oblique;\n",
       "    }\n",
       "    @font-face {\n",
       "        font-family: \"Computer Modern\";\n",
       "        src: url('http://mirrors.ctan.org/fonts/cm-unicode/fonts/otf/cmunso.otf');\n",
       "        font-weight: bold;\n",
       "        font-style: oblique;\n",
       "    }\n",
       "\n",
       "    \n",
       "    div.cell{\n",
       "        max-width:1100px;\n",
       "        margin-left:auto;\n",
       "        margin-right:auto;\n",
       "    }\n",
       "    \n",
       "    h1 {\n",
       "        font-family: Computer Modern;\n",
       "    }\n",
       "    \n",
       "    h4{\n",
       "        margin-top:12px;\n",
       "        margin-bottom: 3px;\n",
       "       }\n",
       "\n",
       "    div.text_cell_render{\n",
       "        font-family: Computer Modern, \"Helvetica Neue\", Arial, Helvetica, Geneva, sans-serif;\n",
       "        line-height: 145%;\n",
       "        font-size: 130%;\n",
       "        max-width:1100px;\n",
       "        margin-left:auto;\n",
       "        margin-right:auto;\n",
       "    }\n",
       "    \n",
       "    .CodeMirror{\n",
       "            font-family: \"Source Code Pro\", source-code-pro, Consolas, monospace;\n",
       "    }\n",
       "    \n",
       "    .warning{\n",
       "        color: rgb( 240, 20, 20 )\n",
       "        }  \n",
       "    \n",
       "    hr.style-end {\n",
       "    border: 0;\n",
       "    height: 1px;\n",
       "    text-align: center;\n",
       "    background: #333;\n",
       "    background-image: -webkit-linear-gradient(left, #ccc, #333, #ccc); \n",
       "    background-image:    -moz-linear-gradient(left, #ccc, #333, #ccc); \n",
       "    background-image:     -ms-linear-gradient(left, #ccc, #333, #ccc); \n",
       "    background-image:      -o-linear-gradient(left, #ccc, #333, #ccc); \n",
       "    }\n",
       "\n",
       "    hr.style-end:after {\n",
       "    content: \"⚜\";\n",
       "    display: inline-block;\n",
       "    position: relative; \n",
       "    top: -0.5em;  \n",
       "    font-size: 1.5em;\n",
       "    padding: 0 0.25em;\n",
       "    background: white;\n",
       "    }\n",
       "    \n",
       "/*  Center figures, etc\n",
       "    .ui-wrapper {\n",
       "        margin-left: auto !important;\n",
       "        margin-right: auto !important;\n",
       "    }\n",
       " */\n",
       "    \n",
       "</style>\n",
       "<script>\n",
       "    MathJax.Hub.Config({\n",
       "                        TeX: {\n",
       "                           extensions: [\"AMSmath.js\"]\n",
       "                           },\n",
       "                tex2jax: {\n",
       "                    inlineMath: [ ['$','$'], [\"\\\\(\",\"\\\\)\"] ],\n",
       "                    displayMath: [ ['$$','$$'], [\"\\\\[\",\"\\\\]\"] ]\n",
       "                },\n",
       "                displayAlign: 'center', // Change this to 'center' to center equations.\n",
       "                \"HTML-CSS\": {\n",
       "                    styles: {'.MathJax_Display': {\"margin\": 4}}\n",
       "                }\n",
       "        });\n",
       "</script>\n"
      ],
      "text/plain": [
       "<IPython.core.display.HTML object>"
      ]
     },
     "execution_count": 10,
     "metadata": {},
     "output_type": "execute_result"
    }
   ],
   "source": [
    "# Ignore this cell - We just update the CSS to make the notebook look a little bit better and easier to read\n",
    "\n",
    "# Improve the notebook styling -- Run this first\n",
    "import codecs\n",
    "from IPython.core.display import HTML\n",
    "css_file = 'styling/CRAWLAB_IPythonNotebook.css'\n",
    "HTML(codecs.open(css_file, 'r', 'utf-8').read())"
   ]
  }
 ],
 "metadata": {
  "anaconda-cloud": {},
  "kernelspec": {
   "display_name": "Python [default]",
   "language": "python",
   "name": "python3"
  },
  "language_info": {
   "codemirror_mode": {
    "name": "ipython",
    "version": 3
   },
   "file_extension": ".py",
   "mimetype": "text/x-python",
   "name": "python",
   "nbconvert_exporter": "python",
   "pygments_lexer": "ipython3",
   "version": "3.5.2"
  }
 },
 "nbformat": 4,
 "nbformat_minor": 0
}
