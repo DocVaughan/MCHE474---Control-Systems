{
 "cells": [
  {
   "cell_type": "markdown",
   "metadata": {},
   "source": [
    "<h1 style=\"text-align:center\">DC Motor PD Controller Design Example</h1>\n",
    "<h3 style=\"text-align:center\">MCHE474: Control Systems</h3> \n",
    "<p style=\"text-align:center\">Dr. Joshua Vaughan <br>\n",
    "<a href=\"mailto:joshua.vaughan@louisiana.edu\">joshua.vaughan@louisiana.edu</a><br>\n",
    "<a href=\"http://www.ucs.louisiana.edu/~jev9637/\">http://www.ucs.louisiana.edu/~jev9637/</a></p>"
   ]
  },
  {
   "cell_type": "markdown",
   "metadata": {},
   "source": [
    "In [a prior in-class exercise](), we found the transfer function of an armature-controlled DC motor to be:\n",
    "    \n",
    "$ \\quad \\frac{K_1}{s(\\tau_1 s + 1)} $\n",
    "\n",
    "where:\n",
    "\n",
    "$ \\quad K_1 = \\frac{K_m}{R_a b + K_bK_m} $\n",
    "\n",
    "$ \\quad \\tau_1 = \\frac{R_a J}{K_bK_m + R_a b} $\n",
    "\n",
    "and $K_m$ is the motor constant, $b$ represents frictional effects, $J$ is the inertia of the load, $R_a$ is the armature resistance, and $K_b$ is the proportionality constant between motor speeds and back emf voltage.\n"
   ]
  },
  {
   "cell_type": "markdown",
   "metadata": {},
   "source": [
    "We will be looking a the potential use of Proportional-plus-derivative (PD) control for this motor, with the goal of making the shaft output angle match some desired angle. In this case, the block diagram for the control system looks like the one in Figure 1.\n",
    "\n",
    "<p style=\"text-align:center\">\n",
    "\t<img src=\"http://shared.crawlab.org/blockDiagram_normalFeedback.png\" alt=\"Feedback Control Block Diagram\" width=50%><br>\n",
    "    <strong>Figure 1: Feedback Control Block Diagram</strong>\n",
    "</p>\n",
    "\n",
    "In this example, the plant transfer function, $G_p$, matches that of the DC motor:\n",
    "\n",
    "$ \\quad G_p(s) = \\frac{K_1}{s(\\tau_1 s + 1)} $\n",
    "\n",
    "The controller block, $G_c$, is the PD controller:\n",
    "\n",
    "$ \\quad G_c(s) = k_p + k_d s $\n",
    "\n",
    "We can rewrite the PD controller in the form below, to put the open-loop transfer function into a form suitable for the root locus:\n",
    "\n",
    "$ \\quad G_c(s) = k_p (1 + \\frac{k_d}{k_p} s) = k_p (1 + T_d s) $\n",
    "\n",
    "where \n",
    "\n",
    "$ \\quad T_d = \\frac{k_d}{k_p} $\n",
    "\n",
    "So, the open-loop tranfer function, $G_cG_p$, is:\n",
    "\n",
    "$ \\quad G_cG_p = \\frac{k_pK_1 ( 1 + T_d s)}{s (\\tau_1 s + 1)} $\n",
    "\n",
    "To plot a root locus for gain $k_p$, we will need to specify an initial choice for $T_d$, which will serve to place the zero from the PD controller. Here, that zero can either be to the left or the right of the pole at $-1/\\tau_1$.\n",
    "\n",
    "***Note:*** The parameters we're using here for $k_1$ and $\\tau_1$ are not generally representative of a real DC motor, but instead are chosen to make our reasoning about this problem more generalizable."
   ]
  },
  {
   "cell_type": "markdown",
   "metadata": {},
   "source": [
    "As usual, we'll being the \"code\" part of the notebook with the usual imports of NumPy, the Control Systems Library, and matplotlib."
   ]
  },
  {
   "cell_type": "code",
   "execution_count": 1,
   "metadata": {
    "collapsed": true
   },
   "outputs": [],
   "source": [
    "import numpy as np\n",
    "import control\n",
    "import matplotlib.pyplot as plt"
   ]
  },
  {
   "cell_type": "code",
   "execution_count": 2,
   "metadata": {
    "collapsed": true
   },
   "outputs": [],
   "source": [
    "%matplotlib inline"
   ]
  },
  {
   "cell_type": "markdown",
   "metadata": {},
   "source": [
    "## PD Zero to the Left of Pole\n",
    "\n",
    "We'll first look at the case where the PD controller zero is placed to the left of the plant pole at $-1/\\tau_1$. "
   ]
  },
  {
   "cell_type": "code",
   "execution_count": 3,
   "metadata": {
    "collapsed": true
   },
   "outputs": [],
   "source": [
    "k1 = 1.0\n",
    "tau = 1.0\n",
    "td = 0.5\n",
    "\n",
    "# Now, define the open-loop system\n",
    "num = [k1 * td, k1]\n",
    "den = [tau, 1, 0]\n",
    "\n",
    "sys = control.tf(num, den)"
   ]
  },
  {
   "cell_type": "markdown",
   "metadata": {},
   "source": [
    "We can start by plotting the poles and zeros of the open-loop transfer function. Most of the code below is just to make the plot easier to read."
   ]
  },
  {
   "cell_type": "code",
   "execution_count": 4,
   "metadata": {},
   "outputs": [
    {
     "data": {
      "image/png": "[encoded data removed]",
      "text/plain": [
       "<matplotlib.figure.Figure at 0x1146cde80>"
      ]
     },
     "metadata": {},
     "output_type": "display_data"
    }
   ],
   "source": [
    "poles, zeros = control.pzmap.pzmap(sys, Plot=False)\n",
    "\n",
    "# Let's plot the pole-zero map with better formatting than the stock command would\n",
    "\n",
    "# Set the plot size - 3x2 aspect ratio is best\n",
    "fig = plt.figure(figsize=(6, 4))\n",
    "ax = plt.gca()\n",
    "plt.subplots_adjust(bottom=0.17, left=0.17, top=0.96, right=0.96)\n",
    "\n",
    "# Change the axis units to serif\n",
    "plt.setp(ax.get_ymajorticklabels(), family='serif', fontsize=18)\n",
    "plt.setp(ax.get_xmajorticklabels(), family='serif', fontsize=18)\n",
    "\n",
    "ax.spines['left'].set_color('none')\n",
    "ax.spines['top'].set_color('none')\n",
    "ax.spines['bottom'].set_position('zero')\n",
    "ax.spines['right'].set_position('zero')\n",
    "\n",
    "ax.xaxis.set_ticks_position('bottom')\n",
    "ax.yaxis.set_ticks_position('right')\n",
    "\n",
    "# Turn on the plot grid and set appropriate linestyle and color\n",
    "ax.grid(True,linestyle=':', color='0.75')\n",
    "ax.set_axisbelow(True)\n",
    "\n",
    "# Define the X and Y axis labels\n",
    "plt.xlabel('$\\sigma$', family='serif', fontsize=22, weight='bold', labelpad=5)\n",
    "ax.xaxis.set_label_coords(1.08, .54)\n",
    "\n",
    "\n",
    "plt.ylabel('$j\\omega$', family='serif', fontsize=22, weight='bold', rotation=0, labelpad=10)\n",
    "ax.yaxis.set_label_coords(5/6, 1.05)\n",
    "\n",
    "\n",
    "plt.plot(np.real(poles), np.imag(poles), linestyle='', \n",
    "         marker='x', markersize=10, markeredgewidth=5, \n",
    "         zorder = 10, label=r'Poles')\n",
    "\n",
    "plt.plot(np.real(zeros), np.imag(zeros), linestyle='', \n",
    "         marker='o', markersize=10, markeredgewidth=3, markerfacecolor='none', \n",
    "         zorder = 10, label=r'Zeros')\n",
    "\n",
    "\n",
    "# uncomment below and set limits if needed\n",
    "plt.xlim(-5, 1)\n",
    "# plt.ylim(0, 10)\n",
    "\n",
    "plt.xticks([-5,-4,-3,-2,-1,0, 1],['','','','','','' ,''], bbox=dict(facecolor='black', edgecolor='None', alpha=0.65 ))\n",
    "plt.yticks([-1.5, -1.0, -0.5, 0, 0.5, 1, 1.5],['','', '', '0', '','',''])\n",
    "\n",
    "# Create the legend, then fix the fontsize\n",
    "# leg = plt.legend(loc='upper right', ncol = 1, fancybox=True)\n",
    "# ltext  = leg.get_texts()\n",
    "# plt.setp(ltext, family='serif', fontsize=20)\n",
    "\n",
    "# Adjust the page layout filling the page using the new tight_layout command\n",
    "plt.tight_layout(pad=0.5)\n",
    "\n",
    "# Uncomment to save the figure as a high-res pdf in the current folder\n",
    "# It's saved at the original 6x4 size\n",
    "# plt.savefig('MCHE474_PoleZeroMap.pdf')\n",
    "\n",
    "fig.set_size_inches(9, 6) # Resize the figure for better display in the notebook"
   ]
  },
  {
   "cell_type": "markdown",
   "metadata": {},
   "source": [
    "Now, we can plot the root locus, using the control System Library's built in `.root_locus()` function. We'll add a few options:\n",
    "* `kvect=np.linspace(0,50,50001)` : Specify the range of gains to plot the locus over\n",
    "* `Plot=False` : Don't plot the results (since we want to plot them ourselves to give better control over the styling)"
   ]
  },
  {
   "cell_type": "code",
   "execution_count": 5,
   "metadata": {
    "collapsed": true
   },
   "outputs": [],
   "source": [
    "roots, gains = control.root_locus(sys, kvect = np.linspace(0,50,50001), Plot=False)"
   ]
  },
  {
   "cell_type": "code",
   "execution_count": 6,
   "metadata": {
    "scrolled": false
   },
   "outputs": [
    {
     "data": {
      "image/png": "[encoded data removed]",
      "text/plain": [
       "<matplotlib.figure.Figure at 0x1146af710>"
      ]
     },
     "metadata": {},
     "output_type": "display_data"
    }
   ],
   "source": [
    "# Set the plot size - 3x2 aspect ratio is best\n",
    "fig = plt.figure(figsize=(6, 4))\n",
    "ax = plt.gca()\n",
    "plt.subplots_adjust(bottom=0.17, left=0.17, top=0.96, right=0.96)\n",
    "\n",
    "# Change the axis units to serif\n",
    "plt.setp(ax.get_ymajorticklabels(), family='serif', fontsize=18)\n",
    "plt.setp(ax.get_xmajorticklabels(), family='serif', fontsize=18)\n",
    "\n",
    "ax.spines['left'].set_color('none')\n",
    "ax.spines['top'].set_color('none')\n",
    "ax.spines['bottom'].set_position('zero')\n",
    "ax.spines['right'].set_position('zero')\n",
    "\n",
    "ax.xaxis.set_ticks_position('bottom')\n",
    "ax.yaxis.set_ticks_position('right')\n",
    "\n",
    "# Turn on the plot grid and set appropriate linestyle and color\n",
    "ax.grid(True,linestyle=':', color='0.75')\n",
    "ax.set_axisbelow(True)\n",
    "\n",
    "# Define the X and Y axis labels\n",
    "# Define the X and Y axis labels\n",
    "plt.xlabel('$\\sigma$', family='serif', fontsize=22, weight='bold', labelpad=5)\n",
    "ax.xaxis.set_label_coords(1.02, .525)\n",
    "\n",
    "\n",
    "plt.ylabel('$j\\omega$', family='serif', fontsize=22, weight='bold', rotation=0, labelpad=10)\n",
    "ax.yaxis.set_label_coords(5/6, 1.05)\n",
    "\n",
    "plt.plot(np.real(poles), np.imag(poles), linestyle='', \n",
    "         marker='x', markersize=10, markeredgewidth=5, \n",
    "         zorder = 10, label=r'Poles')\n",
    "\n",
    "plt.plot(np.real(zeros), np.imag(zeros), linestyle='', \n",
    "         marker='o', markersize=10, markeredgewidth=3, markerfacecolor='none', \n",
    "         zorder = 10, label=r'Zeros')\n",
    "\n",
    "plt.plot(roots.real, roots.imag, linewidth=2, linestyle='-', label=r'Data 1')\n",
    "\n",
    "\n",
    "plt.xticks([-5,-4,-3,-2,-1,0, 1],['','','','','','',''], bbox=dict(facecolor='black', edgecolor='None', alpha=0.65 ))\n",
    "plt.yticks([-1.0, -0.5, 0, 0.5, 1],['','', '0', '',''])\n",
    "\n",
    "# uncomment below and set limits if needed\n",
    "plt.xlim(-5, 1)\n",
    "# plt.ylim(0, 10)\n",
    "\n",
    "# Adjust the page layout filling the page using the new tight_layout command\n",
    "plt.tight_layout(pad=0.5)\n",
    "\n",
    "# Uncomment to save the figure as a high-res pdf in the current folder\n",
    "# It's saved at the original 6x4 size\n",
    "plt.savefig('example_rootLocus.pdf')\n",
    "\n",
    "fig.set_size_inches(9, 6) # Resize the figure for better display in the notebook"
   ]
  },
  {
   "cell_type": "markdown",
   "metadata": {},
   "source": [
    "## PD Zero to the Right of Pole\n",
    "\n",
    "Now, let's look at the case where the PD controller zero is placed to the right of the plant pole at $-1/\\tau_1$. "
   ]
  },
  {
   "cell_type": "code",
   "execution_count": 7,
   "metadata": {
    "collapsed": true
   },
   "outputs": [],
   "source": [
    "k1 = 1.0\n",
    "tau = 1.0\n",
    "td = 2.0\n",
    "\n",
    "# Now, define the open-loop system\n",
    "num = [k1 * td, k1]\n",
    "den = [tau, 1, 0]\n",
    "\n",
    "sys = control.tf(num, den)"
   ]
  },
  {
   "cell_type": "markdown",
   "metadata": {},
   "source": [
    "We can start by plotting the poles and zeros of the open-loop transfer function. Most of the code below is just to make the plot easier to read."
   ]
  },
  {
   "cell_type": "code",
   "execution_count": 8,
   "metadata": {},
   "outputs": [
    {
     "data": {
      "image/png": "[encoded data removed]",
      "text/plain": [
       "<matplotlib.figure.Figure at 0x1175876d8>"
      ]
     },
     "metadata": {},
     "output_type": "display_data"
    }
   ],
   "source": [
    "poles, zeros = control.pzmap.pzmap(sys, Plot=False)\n",
    "\n",
    "# Let's plot the pole-zero map with better formatting than the stock command would\n",
    "\n",
    "# Set the plot size - 3x2 aspect ratio is best\n",
    "fig = plt.figure(figsize=(6, 4))\n",
    "ax = plt.gca()\n",
    "plt.subplots_adjust(bottom=0.17, left=0.17, top=0.96, right=0.96)\n",
    "\n",
    "# Change the axis units to serif\n",
    "plt.setp(ax.get_ymajorticklabels(), family='serif', fontsize=18)\n",
    "plt.setp(ax.get_xmajorticklabels(), family='serif', fontsize=18)\n",
    "\n",
    "ax.spines['left'].set_color('none')\n",
    "ax.spines['top'].set_color('none')\n",
    "ax.spines['bottom'].set_position('zero')\n",
    "ax.spines['right'].set_position('zero')\n",
    "\n",
    "ax.xaxis.set_ticks_position('bottom')\n",
    "ax.yaxis.set_ticks_position('right')\n",
    "\n",
    "# Turn on the plot grid and set appropriate linestyle and color\n",
    "ax.grid(True,linestyle=':', color='0.75')\n",
    "ax.set_axisbelow(True)\n",
    "\n",
    "# Define the X and Y axis labels\n",
    "plt.xlabel('$\\sigma$', family='serif', fontsize=22, weight='bold', labelpad=5)\n",
    "ax.xaxis.set_label_coords(1.08, .54)\n",
    "\n",
    "\n",
    "plt.ylabel('$j\\omega$', family='serif', fontsize=22, weight='bold', rotation=0, labelpad=10)\n",
    "ax.yaxis.set_label_coords(5/6, 1.05)\n",
    "\n",
    "\n",
    "plt.plot(np.real(poles), np.imag(poles), linestyle='', \n",
    "         marker='x', markersize=10, markeredgewidth=5, \n",
    "         zorder = 10, label=r'Poles')\n",
    "\n",
    "plt.plot(np.real(zeros), np.imag(zeros), linestyle='', \n",
    "         marker='o', markersize=10, markeredgewidth=3, markerfacecolor='none', \n",
    "         zorder = 10, label=r'Zeros')\n",
    "\n",
    "\n",
    "# uncomment below and set limits if needed\n",
    "plt.xlim(-5, 1)\n",
    "# plt.ylim(0, 10)\n",
    "\n",
    "plt.xticks([-5,-4,-3,-2,-1,0, 1],['','','','','','' ,''], bbox=dict(facecolor='black', edgecolor='None', alpha=0.65 ))\n",
    "plt.yticks([-1.5, -1.0, -0.5, 0, 0.5, 1, 1.5],['','', '', '0', '','',''])\n",
    "\n",
    "# Create the legend, then fix the fontsize\n",
    "# leg = plt.legend(loc='upper right', ncol = 1, fancybox=True)\n",
    "# ltext  = leg.get_texts()\n",
    "# plt.setp(ltext, family='serif', fontsize=20)\n",
    "\n",
    "# Adjust the page layout filling the page using the new tight_layout command\n",
    "plt.tight_layout(pad=0.5)\n",
    "\n",
    "# Uncomment to save the figure as a high-res pdf in the current folder\n",
    "# It's saved at the original 6x4 size\n",
    "# plt.savefig('MCHE474_ExtraZero_PoleZeroMap.pdf')\n",
    "\n",
    "fig.set_size_inches(9, 6) # Resize the figure for better display in the notebook"
   ]
  },
  {
   "cell_type": "markdown",
   "metadata": {},
   "source": [
    "Now, we can plot the root locus, using the control System Library's built in `.root_locus()` function. We'll add a few options:\n",
    "* `kvect=np.linspace(0,50,50001)` : Specify the range of gains to plot the locus over\n",
    "* `Plot=False` : Don't plot the results (since we want to plot them ourselves to give better control over the styling)"
   ]
  },
  {
   "cell_type": "code",
   "execution_count": 9,
   "metadata": {
    "collapsed": true
   },
   "outputs": [],
   "source": [
    "roots, gains = control.root_locus(sys, kvect = np.linspace(0,50,50001), Plot=False)"
   ]
  },
  {
   "cell_type": "code",
   "execution_count": 10,
   "metadata": {},
   "outputs": [
    {
     "data": {
      "image/png": "[encoded data removed]",
      "text/plain": [
       "<matplotlib.figure.Figure at 0x116ce5240>"
      ]
     },
     "metadata": {},
     "output_type": "display_data"
    }
   ],
   "source": [
    "# Set the plot size - 3x2 aspect ratio is best\n",
    "fig = plt.figure(figsize=(6, 4))\n",
    "ax = plt.gca()\n",
    "plt.subplots_adjust(bottom=0.17, left=0.17, top=0.96, right=0.96)\n",
    "\n",
    "# Change the axis units to serif\n",
    "plt.setp(ax.get_ymajorticklabels(), family='serif', fontsize=18)\n",
    "plt.setp(ax.get_xmajorticklabels(), family='serif', fontsize=18)\n",
    "\n",
    "ax.spines['left'].set_color('none')\n",
    "ax.spines['top'].set_color('none')\n",
    "ax.spines['bottom'].set_position('zero')\n",
    "ax.spines['right'].set_position('zero')\n",
    "\n",
    "ax.xaxis.set_ticks_position('bottom')\n",
    "ax.yaxis.set_ticks_position('right')\n",
    "\n",
    "# Turn on the plot grid and set appropriate linestyle and color\n",
    "ax.grid(True,linestyle=':', color='0.75')\n",
    "ax.set_axisbelow(True)\n",
    "\n",
    "# Define the X and Y axis labels\n",
    "# Define the X and Y axis labels\n",
    "plt.xlabel('$\\sigma$', family='serif', fontsize=22, weight='bold', labelpad=5)\n",
    "ax.xaxis.set_label_coords(1.02, .525)\n",
    "\n",
    "\n",
    "plt.ylabel('$j\\omega$', family='serif', fontsize=22, weight='bold', rotation=0, labelpad=10)\n",
    "ax.yaxis.set_label_coords(5/6, 1.05)\n",
    "\n",
    "plt.plot(np.real(poles), np.imag(poles), linestyle='', \n",
    "         marker='x', markersize=10, markeredgewidth=5, \n",
    "         zorder = 10, label=r'Poles')\n",
    "\n",
    "plt.plot(np.real(zeros), np.imag(zeros), linestyle='', \n",
    "         marker='o', markersize=10, markeredgewidth=3, markerfacecolor='none', \n",
    "         zorder = 10, label=r'Zeros')\n",
    "\n",
    "plt.plot(roots.real, roots.imag, linewidth=2, linestyle='-', label=r'Data 1')\n",
    "\n",
    "\n",
    "plt.xticks([-5,-4,-3,-2,-1,0, 1],['','','','','','',''], bbox=dict(facecolor='black', edgecolor='None', alpha=0.65 ))\n",
    "plt.yticks([-1.0, -0.5, 0, 0.5, 1],['','', '0', '',''])\n",
    "\n",
    "# uncomment below and set limits if needed\n",
    "plt.xlim(-5, 1)\n",
    "# plt.ylim(0, 10)\n",
    "\n",
    "# Adjust the page layout filling the page using the new tight_layout command\n",
    "plt.tight_layout(pad=0.5)\n",
    "\n",
    "# Uncomment to save the figure as a high-res pdf in the current folder\n",
    "# It's saved at the original 6x4 size\n",
    "# plt.savefig('example_rootLocus.pdf')\n",
    "\n",
    "fig.set_size_inches(9, 6) # Resize the figure for better display in the notebook"
   ]
  },
  {
   "cell_type": "markdown",
   "metadata": {},
   "source": [
    "<hr style=\"border: 0px;\n",
    "        height: 1px;\n",
    "        text-align: center;\n",
    "        background: #333;\n",
    "        background-image: -webkit-linear-gradient(left, #ccc, #333, #ccc); \n",
    "        background-image:    -moz-linear-gradient(left, #ccc, #333, #ccc); \n",
    "        background-image:     -ms-linear-gradient(left, #ccc, #333, #ccc); \n",
    "        background-image:      -o-linear-gradient(left, #ccc, #333, #ccc);\">"
   ]
  },
  {
   "cell_type": "markdown",
   "metadata": {},
   "source": [
    "#### Licenses\n",
    "Code is licensed under a 3-clause BSD style license. See the licenses/LICENSE.md file.\n",
    "\n",
    "Other content is provided under a [Creative Commons Attribution-NonCommercial 4.0 International License](http://creativecommons.org/licenses/by-nc/4.0/), CC-BY-NC 4.0."
   ]
  },
  {
   "cell_type": "code",
   "execution_count": 11,
   "metadata": {},
   "outputs": [
    {
     "data": {
      "text/html": [
       "<script>\n",
       "    MathJax.Hub.Config({\n",
       "                        TeX: {\n",
       "                           extensions: [\"AMSmath.js\"]\n",
       "                           },\n",
       "                tex2jax: {\n",
       "                    inlineMath: [ ['$','$'], [\"\\\\(\",\"\\\\)\"] ],\n",
       "                    displayMath: [ ['$$','$$'], [\"\\\\[\",\"\\\\]\"] ]\n",
       "                },\n",
       "                displayAlign: 'center', // Change this to 'center' to center equations.\n",
       "                \"HTML-CSS\": {\n",
       "                    styles: {'.MathJax_Display': {\"margin\": 4}}\n",
       "                }\n",
       "        });\n",
       "</script>\n",
       "\n",
       "<style>\n",
       "    @font-face {\n",
       "        font-family: \"Computer Modern\";\n",
       "        src: url('http://mirrors.ctan.org/fonts/cm-unicode/fonts/otf/cmunss.otf');\n",
       "    }\n",
       "    @font-face {\n",
       "        font-family: \"Computer Modern\";\n",
       "        src: url('http://mirrors.ctan.org/fonts/cm-unicode/fonts/otf/cmunsx.otf');\n",
       "        font-weight: bold;\n",
       "    }\n",
       "    @font-face {\n",
       "        font-family: \"Computer Modern\";\n",
       "        src: url('http://mirrors.ctan.org/fonts/cm-unicode/fonts/otf/cmunsi.otf');\n",
       "        font-style: oblique;\n",
       "    }\n",
       "    @font-face {\n",
       "        font-family: \"Computer Modern\";\n",
       "        src: url('http://mirrors.ctan.org/fonts/cm-unicode/fonts/otf/cmunso.otf');\n",
       "        font-weight: bold;\n",
       "        font-style: oblique;\n",
       "    }\n",
       "\n",
       "    div.cell {\n",
       "        max-width: 1100px;\n",
       "    }\n",
       "    \n",
       "    h1 {\n",
       "        font-family: Computer Modern;\n",
       "    }\n",
       "    \n",
       "    h4 {\n",
       "        margin-top: 12px;\n",
       "        margin-bottom: 3px;\n",
       "    }\n",
       "\n",
       "    div.text_cell_render {\n",
       "        font-family: Computer Modern, \"Helvetica Neue\", Arial, Helvetica, Geneva, sans-serif;\n",
       "        line-height: 145%;\n",
       "        font-size: 130%;\n",
       "        width: 100%;\n",
       "        max-width: 1100px;\n",
       "    }\n",
       "    \n",
       "    .CodeMirror {\n",
       "        font-family: \"Source Code Pro\", source-code-pro, Consolas, monospace;\n",
       "    }\n",
       "    \n",
       "    .warning {\n",
       "        color: rgb( 240, 20, 20 )\n",
       "    }  \n",
       "  \n",
       "   \n",
       "    hr.style-end {\n",
       "        border: 0px;\n",
       "        height: 1px;\n",
       "        text-align: center;\n",
       "        background: #333;\n",
       "        background-image: -webkit-linear-gradient(left, #ccc, #333, #ccc); \n",
       "        background-image:    -moz-linear-gradient(left, #ccc, #333, #ccc); \n",
       "        background-image:     -ms-linear-gradient(left, #ccc, #333, #ccc); \n",
       "        background-image:      -o-linear-gradient(left, #ccc, #333, #ccc); \n",
       "    }\n",
       "\n",
       "    hr.style-end:after {\n",
       "        content: &#x269C;\n",
       "        left: 50%;\n",
       "        position: absolute;\n",
       "        /* Controls the whitespace around the symbol */\n",
       "        padding: 0px;\n",
       "        background: #fff;\n",
       "    }\n",
       "    \n",
       "/*  Center figures, etc\n",
       "    .ui-wrapper {\n",
       "        margin-left: auto !important;\n",
       "        margin-right: auto !important;\n",
       "    }\n",
       "*/\n",
       "    \n",
       "</style>\n"
      ],
      "text/plain": [
       "<IPython.core.display.HTML object>"
      ]
     },
     "execution_count": 11,
     "metadata": {},
     "output_type": "execute_result"
    }
   ],
   "source": [
    "# This cell will just improve the styling of the notebook\n",
    "from IPython.core.display import HTML\n",
    "import urllib.request\n",
    "response = urllib.request.urlopen(\"https://cl.ly/1B1y452Z1d35\")\n",
    "HTML(response.read().decode(\"utf-8\"))"
   ]
  }
 ],
 "metadata": {
  "kernelspec": {
   "display_name": "Python 3",
   "language": "python",
   "name": "python3"
  },
  "language_info": {
   "codemirror_mode": {
    "name": "ipython",
    "version": 3
   },
   "file_extension": ".py",
   "mimetype": "text/x-python",
   "name": "python",
   "nbconvert_exporter": "python",
   "pygments_lexer": "ipython3",
   "version": "3.6.2"
  }
 },
 "nbformat": 4,
 "nbformat_minor": 2
}
