{
 "cells": [
  {
   "cell_type": "code",
   "execution_count": 1,
   "metadata": {},
   "outputs": [
    {
     "name": "stdout",
     "output_type": "stream",
     "text": [
      "Fetching package metadata ...........\n",
      "Solving package specifications: .\n",
      "\n",
      "Package plan for installation in environment /home/nbcommon/anaconda3_431:\n",
      "\n",
      "The following NEW packages will be INSTALLED:\n",
      "\n",
      "    certifi:   2017.7.27.1-py36_0 conda-forge\n",
      "    watermark: 1.5.0-py36_0       conda-forge\n",
      "\n",
      "The following packages will be SUPERSEDED by a higher-priority channel:\n",
      "\n",
      "    conda:     4.3.24-py36_0                  --> 4.3.23-py36_0 conda-forge\n",
      "    conda-env: 2.6.0-0                        --> 2.6.0-0       conda-forge\n",
      "\n",
      "conda-env-2.6. 100% |################################| Time: 0:00:00 661.95 kB/s\n",
      "certifi-2017.7 100% |################################| Time: 0:00:00 993.40 kB/s\n",
      "watermark-1.5. 100% |################################| Time: 0:00:00  17.57 MB/s\n"
     ]
    }
   ],
   "source": [
    "!conda install -c conda-forge watermark -y"
   ]
  },
  {
   "cell_type": "code",
   "execution_count": 10,
   "metadata": {},
   "outputs": [
    {
     "name": "stdout",
     "output_type": "stream",
     "text": [
      "The watermark extension is already loaded. To reload it, use:\n",
      "  %reload_ext watermark\n"
     ]
    }
   ],
   "source": [
    "%load_ext watermark"
   ]
  },
  {
   "cell_type": "code",
   "execution_count": 11,
   "metadata": {},
   "outputs": [
    {
     "name": "stdout",
     "output_type": "stream",
     "text": [
      "2017-09-01T00:53:16+00:00\n",
      "\n",
      "CPython 3.6.0\n",
      "IPython 6.1.0\n",
      "\n",
      "compiler   : GCC 4.4.7 20120313 (Red Hat 4.4.7-1)\n",
      "system     : Linux\n",
      "release    : 4.4.0-92-generic\n",
      "machine    : x86_64\n",
      "processor  : x86_64\n",
      "CPU cores  : 8\n",
      "interpreter: 64bit\n"
     ]
    }
   ],
   "source": [
    "%watermark"
   ]
  },
  {
   "cell_type": "code",
   "execution_count": null,
   "metadata": {},
   "outputs": [
    {
     "name": "stdout",
     "output_type": "stream",
     "text": [
      "Fetching package metadata ...........\n",
      "Solving package specifications: .\n",
      "\n",
      "Package plan for installation in environment /home/nbcommon/anaconda3_431:\n",
      "\n",
      "The following NEW packages will be INSTALLED:\n",
      "\n",
      "    slycot: 0.2.0-np111py36_blas_openblas_200 conda-forge [blas_openblas]\n",
      "\n",
      "slycot-0.2.0-n 100% |################################| Time: 0:00:00   5.37 MB/s\n"
     ]
    }
   ],
   "source": [
    "!conda install -c conda-forge slycot -y"
   ]
  },
  {
   "cell_type": "code",
   "execution_count": 6,
   "metadata": {},
   "outputs": [
    {
     "name": "stdout",
     "output_type": "stream",
     "text": [
      "Fetching package metadata ...........\n",
      "Solving package specifications: .\n",
      "\n",
      "Package plan for installation in environment /home/nbcommon/anaconda3_431:\n",
      "\n",
      "The following NEW packages will be INSTALLED:\n",
      "\n",
      "    boost-cpp: 1.64.0-1                        conda-forge\n",
      "    coincbc:   2.9.9-blas_openblas_0           conda-forge [blas_openblas]\n",
      "    cyclus:    1.5.0-np111py36_blas_openblas_1 conda-forge [blas_openblas]\n",
      "    glibmm:    2.48.1-2                        conda-forge\n",
      "    lapack:    3.6.1-1                         conda-forge\n",
      "    libsigcpp: 2.8.0-3                         conda-forge\n",
      "    libxmlpp:  2.40.1-2                        conda-forge\n",
      "\n",
      "glibmm-2.48.1- 100% |################################| Time: 0:00:00   3.01 MB/s\n",
      "libsigcpp-2.8. 100% |################################| Time: 0:00:00  14.87 MB/s\n",
      "boost-cpp-1.64 100% |################################| Time: 0:00:00  27.18 MB/s\n",
      "lapack-3.6.1-1 100% |################################| Time: 0:00:00  29.89 MB/s\n",
      "coincbc-2.9.9- 100% |################################| Time: 0:00:00  25.71 MB/s\n",
      "libxmlpp-2.40. 100% |################################| Time: 0:00:00  31.92 MB/s\n",
      "cyclus-1.5.0-n 100% |################################| Time: 0:00:00  45.23 MB/s\n"
     ]
    }
   ],
   "source": [
    "!conda install -c conda-forge cyclus -y"
   ]
  },
  {
   "cell_type": "code",
   "execution_count": 15,
   "metadata": {},
   "outputs": [
    {
     "name": "stdout",
     "output_type": "stream",
     "text": [
      "Collecting control\n",
      "  Downloading control-0.7.0-py2.py3-none-any.whl (145kB)\n",
      "\u001b[K    100% |################################| 153kB 4.0MB/s ta 0:00:01\n",
      "\u001b[?25hRequirement already satisfied: scipy in /home/nbcommon/anaconda3_431/lib/python3.6/site-packages (from control)\n",
      "Requirement already satisfied: numpy in /home/nbcommon/anaconda3_431/lib/python3.6/site-packages (from control)\n",
      "Requirement already satisfied: matplotlib in /home/nbcommon/anaconda3_431/lib/python3.6/site-packages (from control)\n",
      "Requirement already satisfied: six>=1.10 in /home/nbcommon/anaconda3_431/lib/python3.6/site-packages (from matplotlib->control)\n",
      "Requirement already satisfied: python-dateutil in /home/nbcommon/anaconda3_431/lib/python3.6/site-packages (from matplotlib->control)\n",
      "Requirement already satisfied: pytz in /home/nbcommon/anaconda3_431/lib/python3.6/site-packages (from matplotlib->control)\n",
      "Requirement already satisfied: cycler>=0.10 in /home/nbcommon/anaconda3_431/lib/python3.6/site-packages (from matplotlib->control)\n",
      "Requirement already satisfied: pyparsing!=2.0.4,!=2.1.2,!=2.1.6,>=1.5.6 in /home/nbcommon/anaconda3_431/lib/python3.6/site-packages (from matplotlib->control)\n",
      "Installing collected packages: control\n",
      "Successfully installed control-0.7.0\n"
     ]
    }
   ],
   "source": [
    "!pip install control"
   ]
  },
  {
   "cell_type": "code",
   "execution_count": 17,
   "metadata": {},
   "outputs": [
    {
     "name": "stdout",
     "output_type": "stream",
     "text": [
      "CPython 3.6.0\n",
      "IPython 6.1.0\n",
      "\n",
      "numpy 1.11.3\n",
      "scipy 0.19.1\n",
      "notebook 5.0.0\n",
      "control 0.7.0\n",
      "matplotlib 2.0.2\n",
      "\n",
      "compiler   : GCC 4.4.7 20120313 (Red Hat 4.4.7-1)\n",
      "system     : Linux\n",
      "release    : 4.4.0-92-generic\n",
      "machine    : x86_64\n",
      "processor  : x86_64\n",
      "CPU cores  : 8\n",
      "interpreter: 64bit\n"
     ]
    }
   ],
   "source": [
    "%watermark -v -m -p numpy,scipy,notebook,control,matplotlib"
   ]
  },
  {
   "cell_type": "code",
   "execution_count": null,
   "metadata": {
    "collapsed": true
   },
   "outputs": [],
   "source": []
  }
 ],
 "metadata": {
  "kernelspec": {
   "display_name": "Python 3.6",
   "language": "python",
   "name": "python36"
  },
  "language_info": {
   "codemirror_mode": {
    "name": "ipython",
    "version": 3
   },
   "file_extension": ".py",
   "mimetype": "text/x-python",
   "name": "python",
   "nbconvert_exporter": "python",
   "pygments_lexer": "ipython3",
   "version": "3.6.0"
  }
 },
 "nbformat": 4,
 "nbformat_minor": 2
}
