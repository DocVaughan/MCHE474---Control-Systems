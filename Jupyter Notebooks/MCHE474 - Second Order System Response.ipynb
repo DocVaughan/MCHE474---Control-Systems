{
 "cells": [
  {
   "cell_type": "markdown",
   "metadata": {},
   "source": [
    "<h1 style=\"text-align:center\">Second-order System Responses</h1>\n",
    "<h3 style=\"text-align:center\">MCHE474: Control Systems</h3> \n",
    "<p style=\"text-align:center\">Dr. Joshua Vaughan <br>\n",
    "<a href=\"mailto:joshua.vaughan@louisiana.edu\">joshua.vaughan@louisiana.edu</a><br>\n",
    "<a href=\"http://www.ucs.louisiana.edu/~jev9637/\">http://www.ucs.louisiana.edu/~jev9637/</a></p>"
   ]
  },
  {
   "cell_type": "markdown",
   "metadata": {},
   "source": [
    "In this notebook, we'll examine the response of a second-order system, along with some performance measures for such systems. We'll use the [Control System Library](http://python-control.readthedocs.io/en/latest/index.html) and work in in the classical control domain"
   ]
  },
  {
   "cell_type": "markdown",
   "metadata": {},
   "source": [
    "## Notebook Imports\n",
    "\n",
    "As usual, we'll start by importing the libraries we'll need to work.  These include [NumPy](http://www.numpy.org), [matplotlib](https://matplotlib.org) for plotting, and the Control Systems Library itself. The code cells here will appear unchanged in most of the notebooks we'll use in *MCHE474*.\n",
    "\n",
    "We first import `numpy` and give it a \"nickname\" `np`. In doing so, we can preface calls to all NumPy functions with `np.` rather than having to type `numpy.`. This is a common convention in the use of NumPy. We say that we have imported NumPy into the namespace `np`. I'm oversimplifying a bit, but having different namespaces allows libraries to have functions of the same name, since all calls to the library or module  will include the namespace information."
   ]
  },
  {
   "cell_type": "code",
   "execution_count": 1,
   "metadata": {
    "collapsed": true
   },
   "outputs": [],
   "source": [
    "# Grab all of the NumPy functions with namespace np\n",
    "import numpy as np              "
   ]
  },
  {
   "cell_type": "markdown",
   "metadata": {
    "collapsed": true
   },
   "source": [
    "Next, we'll import matplotlib. This is another cell that will show up unchanges in nearly every Notebook that we do in *MCHE474*. The `%matplotlib inline` command tells the Notebook to include the plots inline with it, rather than plotting them in a seperate window. We import the `matplotlib.pyplot` module into the namepace `plt`. As you'll see, this means that nearly all of our plotting commands are prefixed by `plt.`."
   ]
  },
  {
   "cell_type": "code",
   "execution_count": 2,
   "metadata": {
    "collapsed": true
   },
   "outputs": [],
   "source": [
    "%matplotlib inline\n",
    "\n",
    "# Import the plotting functions \n",
    "import matplotlib.pyplot as plt"
   ]
  },
  {
   "cell_type": "markdown",
   "metadata": {},
   "source": [
    "Finally we'll import the Control Systems Library. We don't specify a shorthand namespace, so we'll need to preface any commands from it with `control.`."
   ]
  },
  {
   "cell_type": "code",
   "execution_count": 3,
   "metadata": {
    "collapsed": true
   },
   "outputs": [],
   "source": [
    "import control # This will import the control library.  "
   ]
  },
  {
   "cell_type": "markdown",
   "metadata": {},
   "source": [
    "Now that we've imported the necessary libraries, let's walk through the basic response of second-order systems, roughly mirroring Section5.3 of  [*Modern Control Systems (13th Edition)* by Richard Dorf and Robert Bishop](http://amzn.com/0134407628), the current (as of Fall 2017) textbook for *MCHE474*."
   ]
  },
  {
   "cell_type": "markdown",
   "metadata": {},
   "source": [
    "## Working with Transfer Functions"
   ]
  },
  {
   "cell_type": "markdown",
   "metadata": {
    "collapsed": true
   },
   "source": [
    "When working in the  Laplace (or \"s\") domain will be modeling our systems using their transfer functions. The Control Systems Library has numerous tools to help us define, analyze, and simulate our system in this domain. Let's explore those now.\n",
    "\n",
    "### Defining Transfer Functions\n",
    "To define a transfer function, we need to provide its numerator and denominator to the  `tf()` function of the library. To do so, we'll define the numerator and denominator at 1D arrays, where the power of `s` is indicated by the postition of the constant in the array."
   ]
  },
  {
   "cell_type": "markdown",
   "metadata": {},
   "source": [
    "The second-order system we'll look at is:\n",
    "\n",
    "$ \\quad G(s) =  \\frac{Y(s)}{R(s)} = \\frac{1}{ms^2 + cs + k} $\n",
    "\n",
    "Like the time-domain solution, we can also write this transfer function in terms of the natural frquency, $\\omega_n$, and damping ratio, $\\zeta$, of the system:\n",
    "\n",
    "$ \\quad G(s) = \\frac{Y(s)}{R(s)} = \\frac{\\omega_n^2}{s^2 + 2\\zeta\\omega_n s + \\omega_n^2} $\n",
    "\n",
    "We'll first define an array, which we'll call `num` that contains the numerator value. Since it only has one value, the command will be of the form:\n",
    "\n",
    "    num = [w_n**2]\n",
    "\n",
    "To define the denominator, we need to create an array where the element represents the power of `s` for the constant there. In this case:\n",
    "\n",
    "    den = [1, 2 * zeta * w_n, w_n**2]\n",
    "\n",
    "To check this, work from the \"right\" side of the definition. `w_n**2` is $\\omega_n^2$, which is mulitplied by $s^0$. The next element is `2 * zeta * w_n`, which is the $2\\zeta\\omega_n$ term and given its position in the first indexed element of the array is multiplied by $s^1$. This continues for all similar definitions.\n",
    "\n",
    "***Note:*** This is one difference between Python and MATLAB. In Python, the commas are always needed between elements. In MATLAB, they are (sometimes) optional."
   ]
  },
  {
   "cell_type": "code",
   "execution_count": 4,
   "metadata": {},
   "outputs": [],
   "source": [
    "# Define the natural frequency. We use the numpy sqrt function, so we need to preface its call with np.\n",
    "w_n = np.sqrt(2)    \n",
    "\n",
    "# Define the damping ratio. \n",
    "zeta = 1 / (2 * np.sqrt(2))\n",
    "\n",
    "# Define the numerator and denominator of the transfer function\n",
    "num = [w_n**2]\n",
    "den = [1, 2 * zeta * w_n, w_n**2]"
   ]
  },
  {
   "cell_type": "markdown",
   "metadata": {},
   "source": [
    "Now, that these are defined, we can pass them to the `tf` function of the library. Remember that since `tf` is a function in the `control` module, we need to use `control.tf()` to call it. We'll assign the variable `sys` to hold transfer function returned. "
   ]
  },
  {
   "cell_type": "code",
   "execution_count": 5,
   "metadata": {
    "collapsed": true
   },
   "outputs": [],
   "source": [
    "# Define the transfer function form of the system defined by num and den\n",
    "sys = control.tf(num, den)"
   ]
  },
  {
   "cell_type": "markdown",
   "metadata": {},
   "source": [
    "We can check that the transfer function is defined correctly by printing `sys`."
   ]
  },
  {
   "cell_type": "code",
   "execution_count": 6,
   "metadata": {},
   "outputs": [
    {
     "name": "stdout",
     "output_type": "stream",
     "text": [
      "\n",
      "     2\n",
      "-----------\n",
      "s^2 + s + 2\n",
      "\n"
     ]
    }
   ],
   "source": [
    "print(sys)"
   ]
  },
  {
   "cell_type": "markdown",
   "metadata": {},
   "source": [
    "### Analysis of the System\n",
    "Now that the system's transfer function is defined, we can use many of the analysis tools in the library. We can calculate the poles by"
   ]
  },
  {
   "cell_type": "code",
   "execution_count": 7,
   "metadata": {},
   "outputs": [
    {
     "data": {
      "text/plain": [
       "array([-0.5+1.32287566j, -0.5-1.32287566j])"
      ]
     },
     "execution_count": 7,
     "metadata": {},
     "output_type": "execute_result"
    }
   ],
   "source": [
    "sys.pole()"
   ]
  },
  {
   "cell_type": "markdown",
   "metadata": {},
   "source": [
    "and the zeros by "
   ]
  },
  {
   "cell_type": "code",
   "execution_count": 8,
   "metadata": {},
   "outputs": [
    {
     "data": {
      "text/plain": [
       "array([], dtype=float64)"
      ]
     },
     "execution_count": 8,
     "metadata": {},
     "output_type": "execute_result"
    }
   ],
   "source": [
    "sys.zero()"
   ]
  },
  {
   "cell_type": "markdown",
   "metadata": {},
   "source": [
    "which, as we should expect returns an empty array indicating that there are no zeros for this transfer function.\n",
    "\n",
    "We can plot a (not so pretty) pole-zero map by:"
   ]
  },
  {
   "cell_type": "code",
   "execution_count": 104,
   "metadata": {},
   "outputs": [
    {
     "data": {
      "image/png": "[encoded data removed]",
      "text/plain": [
       "<matplotlib.figure.Figure at 0x11706d240>"
      ]
     },
     "metadata": {},
     "output_type": "display_data"
    }
   ],
   "source": [
    "a = 0.22\n",
    "sys2 = control.tf([1/a, 1],[1])\n",
    "\n",
    "poles, zeros = control.pzmap.pzmap(sys*sys2, Plot=False)\n",
    "\n",
    "# Let's plot the pole-zero map with better formatting than the stock command would\n",
    "\n",
    "# Set the plot size - 3x2 aspect ratio is best\n",
    "fig = plt.figure(figsize=(6, 4))\n",
    "ax = plt.gca()\n",
    "plt.subplots_adjust(bottom=0.17, left=0.17, top=0.96, right=0.96)\n",
    "\n",
    "# Change the axis units to serif\n",
    "plt.setp(ax.get_ymajorticklabels(), family='serif', fontsize=18)\n",
    "plt.setp(ax.get_xmajorticklabels(), family='serif', fontsize=18)\n",
    "\n",
    "ax.spines['left'].set_color('none')\n",
    "ax.spines['top'].set_color('none')\n",
    "ax.spines['bottom'].set_position('zero')\n",
    "ax.spines['right'].set_position('zero')\n",
    "\n",
    "ax.xaxis.set_ticks_position('bottom')\n",
    "ax.yaxis.set_ticks_position('right')\n",
    "\n",
    "# Turn on the plot grid and set appropriate linestyle and color\n",
    "ax.grid(True,linestyle=':', color='0.75')\n",
    "ax.set_axisbelow(True)\n",
    "\n",
    "# Define the X and Y axis labels\n",
    "plt.xlabel('$\\sigma$', family='serif', fontsize=22, weight='bold', labelpad=5)\n",
    "ax.xaxis.set_label_coords(1.08, .54)\n",
    "\n",
    "\n",
    "plt.ylabel('$j\\omega$', family='serif', fontsize=22, weight='bold', rotation=0, labelpad=10)\n",
    "ax.yaxis.set_label_coords(1, 1.05)\n",
    "\n",
    "\n",
    "plt.plot(np.real(poles), np.imag(poles), linestyle='', \n",
    "         marker='x', markersize=10, markeredgewidth=5, \n",
    "         zorder = 10, label=r'Poles')\n",
    "\n",
    "plt.plot(np.real(zeros), np.imag(zeros), linestyle='', \n",
    "         marker='o', markersize=10, markeredgewidth=3, markerfacecolor='none', \n",
    "         zorder = 10, label=r'Zeros')\n",
    "\n",
    "\n",
    "# uncomment below and set limits if needed\n",
    "plt.xlim(-5, 0)\n",
    "# plt.ylim(0, 10)\n",
    "\n",
    "plt.xticks([-5,-4,-3,-2,-1,0],['','','','','',''], bbox=dict(facecolor='black', edgecolor='None', alpha=0.65 ))\n",
    "plt.yticks([-1.5, -1.0, -0.5, 0, 0.5, 1, 1.5],['','', '', '0', '','',''])\n",
    "\n",
    "# Create the legend, then fix the fontsize\n",
    "# leg = plt.legend(loc='upper right', ncol = 1, fancybox=True)\n",
    "# ltext  = leg.get_texts()\n",
    "# plt.setp(ltext, family='serif', fontsize=20)\n",
    "\n",
    "# Adjust the page layout filling the page using the new tight_layout command\n",
    "plt.tight_layout(pad=0.5)\n",
    "\n",
    "# Uncomment to save the figure as a high-res pdf in the current folder\n",
    "# It's saved at the original 6x4 size\n",
    "plt.savefig('MCHE474_ExtraZero_PoleZeroMap.pdf')\n",
    "\n",
    "# fig.set_size_inches(9, 6) # Resize the figure for better display in the notebook"
   ]
  },
  {
   "cell_type": "code",
   "execution_count": 95,
   "metadata": {
    "collapsed": true
   },
   "outputs": [],
   "source": [
    "ax.yaxis.set_ticks_position?"
   ]
  },
  {
   "cell_type": "markdown",
   "metadata": {},
   "source": [
    "There are [many others](http://python-control.readthedocs.io/en/latest/control.html#control-system-analysis) that we'll learn about in later notebooks. We can also simulate system responses using the transfer function directly, allowing us to avoid analytically solving the system ODEs."
   ]
  },
  {
   "cell_type": "markdown",
   "metadata": {},
   "source": [
    "### Simluation Using the Transfer Function\n",
    "The library has [functions defined](http://python-control.readthedocs.io/en/latest/control.html#time-domain-simulation) that allow us to *very* easily simulate system responses to initial conditions, impulses, and step inputs. We also, with just a little bit more work, simulate the response to arbitrary inputs of our choosing."
   ]
  },
  {
   "cell_type": "markdown",
   "metadata": {},
   "source": [
    "#### Responses to Initial Conditions\n",
    "The function to simulate a response to initial conditions is:\n",
    "\n",
    "    control.initial_response()\n",
    "\n",
    "We have to pass the system to it and have the option to pass several other parameters, including the time array and the initial condition itself. The initial condition has to include *all* of the states of the system, so we need to define a array to hold them by:\n",
    "\n",
    "    sys_init = [0, 0.15]\n",
    "\n",
    "The function returns a time array and the output(s) of the system.\n",
    "\n",
    "You can get more information [here](http://python-control.readthedocs.io/en/latest/generated/control.initial_response.html#control.initial_response).\n",
    "\n",
    "For our system, the call to this function is:"
   ]
  },
  {
   "cell_type": "code",
   "execution_count": 17,
   "metadata": {
    "collapsed": true
   },
   "outputs": [],
   "source": [
    "# Define the initial conditions for the system.\n",
    "# Here they are the initial velocity and position of the mass\n",
    "sys_init = [0, 0.15]      \n",
    "\n",
    "time_out, response = control.initial_response(sys, t, sys_init)"
   ]
  },
  {
   "cell_type": "markdown",
   "metadata": {},
   "source": [
    "In this call, we store the output (the response itself) in the array named `response` and the time vector returned by the function in array `time_out`. We now can plot this reponse using those two arrays. It should match the response that we plotted above using the analytical solution."
   ]
  },
  {
   "cell_type": "code",
   "execution_count": 18,
   "metadata": {},
   "outputs": [
    {
     "data": {
      "image/png": "[encoded data removed]",
      "text/plain": [
       "<matplotlib.figure.Figure at 0x111b3cba8>"
      ]
     },
     "metadata": {},
     "output_type": "display_data"
    }
   ],
   "source": [
    "# Set the plot size - 3x2 aspect ratio is best\n",
    "fig = plt.figure(figsize=(6, 4))\n",
    "ax = plt.gca()\n",
    "plt.subplots_adjust(bottom=0.17, left=0.17, top=0.96, right=0.96)\n",
    "\n",
    "# Change the axis units to serif\n",
    "plt.setp(ax.get_ymajorticklabels(), family='serif', fontsize=18)\n",
    "plt.setp(ax.get_xmajorticklabels(), family='serif', fontsize=18)\n",
    "\n",
    "ax.spines['right'].set_color('none')\n",
    "ax.spines['top'].set_color('none')\n",
    "\n",
    "ax.xaxis.set_ticks_position('bottom')\n",
    "ax.yaxis.set_ticks_position('left')\n",
    "\n",
    "# Turn on the plot grid and set appropriate linestyle and color\n",
    "ax.grid(True,linestyle=':', color='0.75')\n",
    "ax.set_axisbelow(True)\n",
    "\n",
    "# Define the X and Y axis labels\n",
    "plt.xlabel('Time (s)', family='serif', fontsize=22, weight='bold', labelpad=5)\n",
    "plt.ylabel('Position (m)', family='serif', fontsize=22, weight='bold', labelpad=10)\n",
    "\n",
    "plt.plot(time_out, response, linewidth=2, linestyle='-', label=r'Response')\n",
    "\n",
    "# uncomment below and set limits if needed\n",
    "# plt.xlim(0, 5)\n",
    "# plt.ylim(0, 10)\n",
    "\n",
    "# Create the legend, then fix the fontsize\n",
    "# leg = plt.legend(loc='upper right', ncol = 1, fancybox=True)\n",
    "# ltext  = leg.get_texts()\n",
    "# plt.setp(ltext, family='serif', fontsize=20)\n",
    "\n",
    "# Adjust the page layout filling the page using the new tight_layout command\n",
    "plt.tight_layout(pad=0.5)\n",
    "\n",
    "# Uncomment to save the figure as a high-res pdf in the current folder\n",
    "# It's saved at the original 6x4 size\n",
    "# plt.savefig('MCHE474_initial_response.pdf')\n",
    "\n",
    "fig.set_size_inches(9, 6) # Resize the figure for better display in the notebook"
   ]
  },
  {
   "cell_type": "markdown",
   "metadata": {},
   "source": [
    "### Impulse Response\n",
    "We can also plot the response of the system to an impulse. The function to do so is \n",
    "\n",
    "    control.impulse_response()\n",
    "    \n",
    "which has a similar form to the one we used for the initial condition response above. For this system, the call is:"
   ]
  },
  {
   "cell_type": "code",
   "execution_count": 19,
   "metadata": {
    "collapsed": true
   },
   "outputs": [],
   "source": [
    "time_imp, impulse_response = control.impulse_response(sys, t)"
   ]
  },
  {
   "cell_type": "markdown",
   "metadata": {},
   "source": [
    "As before, we can now plot this response using the arrays returned by the function."
   ]
  },
  {
   "cell_type": "code",
   "execution_count": 20,
   "metadata": {},
   "outputs": [
    {
     "data": {
      "image/png": "[encoded data removed]",
      "text/plain": [
       "<matplotlib.figure.Figure at 0x111caef60>"
      ]
     },
     "metadata": {},
     "output_type": "display_data"
    }
   ],
   "source": [
    "# Set the plot size - 3x2 aspect ratio is best\n",
    "fig = plt.figure(figsize=(6, 4))\n",
    "ax = plt.gca()\n",
    "plt.subplots_adjust(bottom=0.17, left=0.17, top=0.96, right=0.96)\n",
    "\n",
    "# Change the axis units to serif\n",
    "plt.setp(ax.get_ymajorticklabels(), family='serif', fontsize=18)\n",
    "plt.setp(ax.get_xmajorticklabels(), family='serif', fontsize=18)\n",
    "\n",
    "ax.spines['right'].set_color('none')\n",
    "ax.spines['top'].set_color('none')\n",
    "\n",
    "ax.xaxis.set_ticks_position('bottom')\n",
    "ax.yaxis.set_ticks_position('left')\n",
    "\n",
    "# Turn on the plot grid and set appropriate linestyle and color\n",
    "ax.grid(True,linestyle=':', color='0.75')\n",
    "ax.set_axisbelow(True)\n",
    "\n",
    "# Define the X and Y axis labels\n",
    "plt.xlabel('Time (s)', family='serif', fontsize=22, weight='bold', labelpad=5)\n",
    "plt.ylabel('Position (m)', family='serif', fontsize=22, weight='bold', labelpad=10)\n",
    "\n",
    "plt.plot(time_imp, impulse_response, linewidth=2, linestyle='-', label=r'Response')\n",
    "\n",
    "\n",
    "# uncomment below and set limits if needed\n",
    "# plt.xlim(0, 5)\n",
    "# plt.ylim(0, 10)\n",
    "\n",
    "# Create the legend, then fix the fontsize\n",
    "# leg = plt.legend(loc='upper right', ncol = 1, fancybox=True)\n",
    "# ltext  = leg.get_texts()\n",
    "# plt.setp(ltext, family='serif', fontsize=20)\n",
    "\n",
    "# Adjust the page layout filling the page using the new tight_layout command\n",
    "plt.tight_layout(pad=0.5)\n",
    "\n",
    "# Uncomment to save the figure as a high-res pdf in the current folder\n",
    "# It's saved at the original 6x4 size\n",
    "# plt.savefig('MCHE474_impulse_response.pdf')\n",
    "\n",
    "fig.set_size_inches(9, 6) # Resize the figure for better display in the notebook"
   ]
  },
  {
   "cell_type": "markdown",
   "metadata": {},
   "source": [
    "#### Step Response\n",
    "The function to simluate the system response to a step input follows the same patterns as the initial condition and impulse response functions. As you might expect, it is:\n",
    "\n",
    "    control.step_response()\n",
    "\n",
    "where we have to pass the system and have the option of passing other information. More information on it can be found [here](http://python-control.readthedocs.io/en/latest/generated/control.step_response.html#control.step_response).\n",
    "\n",
    "For the mass-spring-damper system, let's simulate a step response with zero initial conditions (*i.e.* The system is at rest when the input is applied.)\n",
    "\n",
    "To do this, we issue the command:"
   ]
  },
  {
   "cell_type": "code",
   "execution_count": 21,
   "metadata": {
    "collapsed": true
   },
   "outputs": [],
   "source": [
    "time_step, step_response = control.step_response(sys, t)"
   ]
  },
  {
   "cell_type": "markdown",
   "metadata": {},
   "source": [
    "As before, we can now plot this reponse using the arrays returned."
   ]
  },
  {
   "cell_type": "code",
   "execution_count": 22,
   "metadata": {},
   "outputs": [
    {
     "data": {
      "image/png": "[encoded data removed]",
      "text/plain": [
       "<matplotlib.figure.Figure at 0x111e19e10>"
      ]
     },
     "metadata": {},
     "output_type": "display_data"
    }
   ],
   "source": [
    "# Set the plot size - 3x2 aspect ratio is best\n",
    "fig = plt.figure(figsize=(6, 4))\n",
    "ax = plt.gca()\n",
    "plt.subplots_adjust(bottom=0.17, left=0.17, top=0.96, right=0.96)\n",
    "\n",
    "# Change the axis units to serif\n",
    "plt.setp(ax.get_ymajorticklabels(), family='serif', fontsize=18)\n",
    "plt.setp(ax.get_xmajorticklabels(), family='serif', fontsize=18)\n",
    "\n",
    "ax.spines['right'].set_color('none')\n",
    "ax.spines['top'].set_color('none')\n",
    "\n",
    "ax.xaxis.set_ticks_position('bottom')\n",
    "ax.yaxis.set_ticks_position('left')\n",
    "\n",
    "# Turn on the plot grid and set appropriate linestyle and color\n",
    "ax.grid(True,linestyle=':', color='0.75')\n",
    "ax.set_axisbelow(True)\n",
    "\n",
    "# Define the X and Y axis labels\n",
    "plt.xlabel('Time (s)', family='serif', fontsize=22, weight='bold', labelpad=5)\n",
    "plt.ylabel('Position (m)', family='serif', fontsize=22, weight='bold', labelpad=10)\n",
    "\n",
    "plt.plot(time_step, step_response, linewidth=2, linestyle='-', label=r'Response')\n",
    "\n",
    "# uncomment below and set limits if needed\n",
    "# plt.xlim(0, 5)\n",
    "# plt.ylim(0, 10)\n",
    "\n",
    "# Create the legend, then fix the fontsize\n",
    "# leg = plt.legend(loc='upper right', ncol = 1, fancybox=True)\n",
    "# ltext  = leg.get_texts()\n",
    "# plt.setp(ltext, family='serif', fontsize=20)\n",
    "\n",
    "# Adjust the page layout filling the page using the new tight_layout command\n",
    "plt.tight_layout(pad=0.5)\n",
    "\n",
    "# Uncomment to save the figure as a high-res pdf in the current folder\n",
    "# It's saved at the original 6x4 size\n",
    "# plt.savefig('MCHE474_step_response.pdf')\n",
    "\n",
    "fig.set_size_inches(9, 6) # Resize the figure for better display in the notebook"
   ]
  },
  {
   "cell_type": "markdown",
   "metadata": {},
   "source": [
    "#### Forced Response\n",
    "The function to simluated a forced response looks similar, but is just *slightly* more complex since we have to propoerly define the input ourselves. We'll investigate its use in more detail in another Notebook."
   ]
  },
  {
   "cell_type": "markdown",
   "metadata": {},
   "source": [
    "<hr>"
   ]
  },
  {
   "cell_type": "markdown",
   "metadata": {},
   "source": [
    "\n",
    "#### Licenses\n",
    "Code is licensed under a 3-clause BSD style license. See the licenses/LICENSE.md file.\n",
    "\n",
    "Other content is provided under a [Creative Commons Attribution-NonCommercial 4.0 International License](http://creativecommons.org/licenses/by-nc/4.0/), CC-BY-NC 4.0."
   ]
  },
  {
   "cell_type": "code",
   "execution_count": 23,
   "metadata": {},
   "outputs": [
    {
     "data": {
      "text/html": [
       "<style>\n",
       "    @font-face {\n",
       "        font-family: \"Computer Modern\";\n",
       "        src: url('http://mirrors.ctan.org/fonts/cm-unicode/fonts/otf/cmunss.otf');\n",
       "    }\n",
       "    @font-face {\n",
       "        font-family: \"Computer Modern\";\n",
       "        src: url('http://mirrors.ctan.org/fonts/cm-unicode/fonts/otf/cmunsx.otf');\n",
       "        font-weight: bold;\n",
       "    }\n",
       "    @font-face {\n",
       "        font-family: \"Computer Modern\";\n",
       "        src: url('http://mirrors.ctan.org/fonts/cm-unicode/fonts/otf/cmunsi.otf');\n",
       "        font-style: oblique;\n",
       "    }\n",
       "    @font-face {\n",
       "        font-family: \"Computer Modern\";\n",
       "        src: url('http://mirrors.ctan.org/fonts/cm-unicode/fonts/otf/cmunso.otf');\n",
       "        font-weight: bold;\n",
       "        font-style: oblique;\n",
       "    }\n",
       "\n",
       "    \n",
       "    div.cell{\n",
       "        max-width:1100px;\n",
       "        margin-left:auto;\n",
       "        margin-right:auto;\n",
       "    }\n",
       "    \n",
       "    h1 {\n",
       "        font-family: Computer Modern;\n",
       "    }\n",
       "    \n",
       "    h4{\n",
       "        margin-top:12px;\n",
       "        margin-bottom: 3px;\n",
       "       }\n",
       "\n",
       "    div.text_cell_render{\n",
       "        font-family: Computer Modern, \"Helvetica Neue\", Arial, Helvetica, Geneva, sans-serif;\n",
       "        line-height: 145%;\n",
       "        font-size: 130%;\n",
       "        max-width:1100px;\n",
       "        margin-left:auto;\n",
       "        margin-right:auto;\n",
       "    }\n",
       "    \n",
       "    .CodeMirror{\n",
       "            font-family: \"Source Code Pro\", source-code-pro, Consolas, monospace;\n",
       "    }\n",
       "    \n",
       "    .warning{\n",
       "        color: rgb( 240, 20, 20 )\n",
       "        }  \n",
       "    \n",
       "    hr.style-end {\n",
       "    border: 0;\n",
       "    height: 1px;\n",
       "    text-align: center;\n",
       "    background: #333;\n",
       "    background-image: -webkit-linear-gradient(left, #ccc, #333, #ccc); \n",
       "    background-image:    -moz-linear-gradient(left, #ccc, #333, #ccc); \n",
       "    background-image:     -ms-linear-gradient(left, #ccc, #333, #ccc); \n",
       "    background-image:      -o-linear-gradient(left, #ccc, #333, #ccc); \n",
       "    }\n",
       "\n",
       "    hr.style-end:after {\n",
       "    content: \"⚜\";\n",
       "    display: inline-block;\n",
       "    position: relative; \n",
       "    top: -0.5em;  \n",
       "    font-size: 1.5em;\n",
       "    padding: 0 0.25em;\n",
       "    background: white;\n",
       "    }\n",
       "    \n",
       "/*  Center figures, etc\n",
       "    .ui-wrapper {\n",
       "        margin-left: auto !important;\n",
       "        margin-right: auto !important;\n",
       "    }\n",
       " */\n",
       "    \n",
       "</style>\n",
       "<script>\n",
       "    MathJax.Hub.Config({\n",
       "                        TeX: {\n",
       "                           extensions: [\"AMSmath.js\"]\n",
       "                           },\n",
       "                tex2jax: {\n",
       "                    inlineMath: [ ['$','$'], [\"\\\\(\",\"\\\\)\"] ],\n",
       "                    displayMath: [ ['$$','$$'], [\"\\\\[\",\"\\\\]\"] ]\n",
       "                },\n",
       "                displayAlign: 'center', // Change this to 'center' to center equations.\n",
       "                \"HTML-CSS\": {\n",
       "                    styles: {'.MathJax_Display': {\"margin\": 4}}\n",
       "                }\n",
       "        });\n",
       "</script>\n"
      ],
      "text/plain": [
       "<IPython.core.display.HTML object>"
      ]
     },
     "execution_count": 23,
     "metadata": {},
     "output_type": "execute_result"
    }
   ],
   "source": [
    "# Ignore this cell - We just update the CSS to make the notebook look a little bit better and easier to read\n",
    "\n",
    "# Improve the notebook styling -- Run this first\n",
    "import codecs\n",
    "from IPython.core.display import HTML\n",
    "css_file = 'styling/CRAWLAB_IPythonNotebook.css'\n",
    "HTML(codecs.open(css_file, 'r', 'utf-8').read())"
   ]
  }
 ],
 "metadata": {
  "anaconda-cloud": {},
  "kernelspec": {
   "display_name": "Python 3",
   "language": "python",
   "name": "python3"
  },
  "language_info": {
   "codemirror_mode": {
    "name": "ipython",
    "version": 3
   },
   "file_extension": ".py",
   "mimetype": "text/x-python",
   "name": "python",
   "nbconvert_exporter": "python",
   "pygments_lexer": "ipython3",
   "version": "3.6.2"
  }
 },
 "nbformat": 4,
 "nbformat_minor": 1
}
